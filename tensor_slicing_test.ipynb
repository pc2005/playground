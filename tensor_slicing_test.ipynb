{
 "cells": [
  {
   "cell_type": "code",
   "execution_count": 1,
   "metadata": {},
   "outputs": [],
   "source": [
    "import torch"
   ]
  },
  {
   "cell_type": "code",
   "execution_count": 23,
   "metadata": {},
   "outputs": [
    {
     "name": "stdout",
     "output_type": "stream",
     "text": [
      "tensor([[1., 1., 1., 1.],\n",
      "        [2., 2., 2., 1.],\n",
      "        [1., 1., 1., 2.],\n",
      "        [2., 2., 2., 3.]])\n"
     ]
    }
   ],
   "source": [
    "# # Create a tensor\n",
    "# tensor = torch.Tensor([[1,1,1,1],[2,2,2,1],[1,1,1,2],[2,2,2,3]])\n",
    "# print(tensor)\n",
    "\n",
    "# # slice by 4th column value\n",
    "# idx = (tensor[tensor[:,3].type(torch.int8)==1, :3])\n",
    "# print(idx)"
   ]
  },
  {
   "cell_type": "code",
   "execution_count": 2,
   "metadata": {},
   "outputs": [
    {
     "name": "stdout",
     "output_type": "stream",
     "text": [
      "tensor([ 1,  5,  9, 10])\n"
     ]
    }
   ],
   "source": [
    "input = torch.tensor([[1,2,3],[4,5,6],[7,8,9],[10,11,12]])\n",
    "indices = torch.tensor([0,1,2,0])\n",
    "# expected output [1,5,9,10]\n",
    "output = torch.tensor([input[i, indices[i]] for i in range(indices.shape[0])])\n",
    "print(output)"
   ]
  },
  {
   "cell_type": "code",
   "execution_count": 12,
   "metadata": {},
   "outputs": [
    {
     "name": "stdout",
     "output_type": "stream",
     "text": [
      "tensor([[ True,  True, False, False, False],\n",
      "        [False, False,  True,  True,  True],\n",
      "        [False,  True, False, False, False],\n",
      "        [False, False, False, False, False]])\n"
     ]
    }
   ],
   "source": [
    "input = torch.tensor([[1,1,2,2,3],[2,2,3,3,3],[1,2,3,3,3],[1,1,3,3,3]])\n",
    "mask_vals = torch.tensor([1, 3, 2, 2])\n",
    "# expected output [[T,T,F,F,F],[F,F,T,T,T],[F,T,F,F,F],[F,F,F,F,F]]\n",
    "mask = mask_vals.unsqueeze(1).expand(-1, input.shape[1])\n",
    "print(input==mask)"
   ]
  }
 ],
 "metadata": {
  "kernelspec": {
   "display_name": "pt2",
   "language": "python",
   "name": "python3"
  },
  "language_info": {
   "codemirror_mode": {
    "name": "ipython",
    "version": 3
   },
   "file_extension": ".py",
   "mimetype": "text/x-python",
   "name": "python",
   "nbconvert_exporter": "python",
   "pygments_lexer": "ipython3",
   "version": "3.11.7"
  }
 },
 "nbformat": 4,
 "nbformat_minor": 2
}
