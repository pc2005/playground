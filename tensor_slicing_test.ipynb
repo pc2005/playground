{
 "cells": [
  {
   "cell_type": "code",
   "execution_count": 1,
   "metadata": {},
   "outputs": [],
   "source": [
    "import torch"
   ]
  },
  {
   "cell_type": "code",
   "execution_count": 23,
   "metadata": {},
   "outputs": [
    {
     "name": "stdout",
     "output_type": "stream",
     "text": [
      "tensor([[1., 1., 1., 1.],\n",
      "        [2., 2., 2., 1.],\n",
      "        [1., 1., 1., 2.],\n",
      "        [2., 2., 2., 3.]])\n"
     ]
    }
   ],
   "source": [
    "# # Create a tensor\n",
    "# tensor = torch.Tensor([[1,1,1,1],[2,2,2,1],[1,1,1,2],[2,2,2,3]])\n",
    "# print(tensor)\n",
    "\n",
    "# # slice by 4th column value\n",
    "# idx = (tensor[tensor[:,3].type(torch.int8)==1, :3])\n",
    "# print(idx)"
   ]
  }
 ],
 "metadata": {
  "kernelspec": {
   "display_name": "pt2",
   "language": "python",
   "name": "python3"
  },
  "language_info": {
   "codemirror_mode": {
    "name": "ipython",
    "version": 3
   },
   "file_extension": ".py",
   "mimetype": "text/x-python",
   "name": "python",
   "nbconvert_exporter": "python",
   "pygments_lexer": "ipython3",
   "version": "3.11.7"
  }
 },
 "nbformat": 4,
 "nbformat_minor": 2
}
