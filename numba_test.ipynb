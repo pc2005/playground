{
 "cells": [
  {
   "cell_type": "code",
   "execution_count": null,
   "metadata": {},
   "outputs": [],
   "source": [
    "import time\n",
    "import random\n",
    "\n",
    "num_loops = 5\n",
    "len_of_list = 50000"
   ]
  },
  {
   "cell_type": "code",
   "execution_count": null,
   "metadata": {},
   "outputs": [],
   "source": [
    "def insertion_sort(arr):\n",
    "\n",
    "    for i in range(len(arr)):\n",
    "        cursor = arr[i]\n",
    "        pos = i\n",
    "\n",
    "        while pos > 0 and arr[pos - 1] > cursor:\n",
    "            # Swap the number down the list\n",
    "            arr[pos] = arr[pos - 1]\n",
    "            pos = pos - 1\n",
    "        # Break and do the final swap\n",
    "        arr[pos] = cursor\n",
    "\n",
    "    return arr\n",
    "\n",
    "start = time.time()\n",
    "list_of_numbers = list()\n",
    "for i in range(len_of_list):\n",
    "    num = random.randint(0, len_of_list)\n",
    "    list_of_numbers.append(num)\n",
    "\n",
    "for i in range(num_loops):\n",
    "    print(i)\n",
    "    result = insertion_sort(list_of_numbers)\n",
    "\n",
    "end = time.time()\n",
    "\n",
    "run_time = end - start\n",
    "\n",
    "print(\"Total time = {}, average = {}\".format(run_time, run_time / num_loops))"
   ]
  },
  {
   "cell_type": "code",
   "execution_count": 12,
   "metadata": {},
   "outputs": [
    {
     "name": "stdout",
     "output_type": "stream",
     "text": [
      "0\n",
      "1\n",
      "2\n",
      "3\n",
      "4\n",
      "Total time = 5.690176963806152, average = 1.1380353927612306\n"
     ]
    }
   ],
   "source": [
    "from numba import njit, vectorize\n",
    "from numba.typed import List\n",
    "\n",
    "# @jit(nopython=True)\n",
    "@njit (inline='always')\n",
    "def insertion_sort(arr):\n",
    "\n",
    "    for i in range(len(arr)):\n",
    "        cursor = arr[i]\n",
    "        pos = i\n",
    "\n",
    "        while pos > 0 and arr[pos - 1] > cursor:\n",
    "            # Swap the number down the list\n",
    "            arr[pos] = arr[pos - 1]\n",
    "            pos = pos - 1\n",
    "        # Break and do the final swap\n",
    "        arr[pos] = cursor\n",
    "\n",
    "    return arr\n",
    "\n",
    "start = time.time()\n",
    "list_of_numbers = List()\n",
    "for i in range(len_of_list):\n",
    "    num = random.randint(0, len_of_list)\n",
    "    list_of_numbers.append(num)\n",
    "\n",
    "for i in range(num_loops):\n",
    "    print(i)\n",
    "    result = insertion_sort(list_of_numbers)\n",
    "\n",
    "end = time.time()\n",
    "\n",
    "run_time = end - start\n",
    "\n",
    "print(\"Total time = {}, average = {}\".format(run_time, run_time / num_loops))"
   ]
  }
 ],
 "metadata": {
  "kernelspec": {
   "display_name": "Python 3.9.13 ('exp_pt')",
   "language": "python",
   "name": "python3"
  },
  "language_info": {
   "codemirror_mode": {
    "name": "ipython",
    "version": 3
   },
   "file_extension": ".py",
   "mimetype": "text/x-python",
   "name": "python",
   "nbconvert_exporter": "python",
   "pygments_lexer": "ipython3",
   "version": "3.9.15"
  },
  "orig_nbformat": 4,
  "vscode": {
   "interpreter": {
    "hash": "21f6fb6ec0df82d9b822214a2115beb7277bde8576d936310f59810ee15b202c"
   }
  }
 },
 "nbformat": 4,
 "nbformat_minor": 2
}
