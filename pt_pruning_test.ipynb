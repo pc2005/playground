{
 "cells": [
  {
   "cell_type": "code",
   "execution_count": 1,
   "metadata": {},
   "outputs": [],
   "source": [
    "import torch\n",
    "from torch import nn\n",
    "import torch.nn.utils.prune as prune\n",
    "import torch.nn.functional as F"
   ]
  },
  {
   "cell_type": "code",
   "execution_count": 8,
   "metadata": {},
   "outputs": [],
   "source": [
    "device = torch.device(\"cuda\" if torch.cuda.is_available() else \"cpu\")\n",
    "\n",
    "class LeNet(nn.Module):\n",
    "    def __init__(self):\n",
    "        super(LeNet, self).__init__()\n",
    "        # 1 input image channel, 6 output channels, 5x5 square conv kernel\n",
    "        self.conv1 = nn.Conv2d(1, 6, 5)\n",
    "        self.conv2 = nn.Conv2d(6, 16, 5)\n",
    "        self.fc1 = nn.Linear(16 * 5 * 5, 120)  # 5x5 image dimension\n",
    "        self.fc2 = nn.Linear(120, 84)\n",
    "        self.fc3 = nn.Linear(84, 10)\n",
    "\n",
    "    def forward(self, x):\n",
    "        x = F.max_pool2d(F.relu(self.conv1(x)), (2, 2))\n",
    "        x = F.max_pool2d(F.relu(self.conv2(x)), 2)\n",
    "        x = x.view(-1, int(x.nelement() / x.shape[0]))\n",
    "        x = F.relu(self.fc1(x))\n",
    "        x = F.relu(self.fc2(x))\n",
    "        x = self.fc3(x)\n",
    "        return x\n",
    "\n",
    "model = LeNet().to(device=device)"
   ]
  },
  {
   "cell_type": "code",
   "execution_count": 9,
   "metadata": {},
   "outputs": [
    {
     "name": "stdout",
     "output_type": "stream",
     "text": [
      "[('weight', Parameter containing:\n",
      "tensor([[[[ 0.0452, -0.1287,  0.0023,  0.1995,  0.0965],\n",
      "          [ 0.0974,  0.1561, -0.1720, -0.1242,  0.0905],\n",
      "          [-0.1531,  0.0870, -0.1435, -0.0851, -0.0249],\n",
      "          [ 0.0067,  0.0284, -0.1803, -0.0511,  0.0609],\n",
      "          [ 0.1552,  0.1132,  0.0371, -0.0080,  0.0286]]],\n",
      "\n",
      "\n",
      "        [[[-0.1255,  0.0127,  0.0372, -0.0412, -0.0561],\n",
      "          [-0.0597, -0.0685,  0.1560, -0.1623,  0.0015],\n",
      "          [-0.0826, -0.1312, -0.0195,  0.1474, -0.0230],\n",
      "          [ 0.1299, -0.0080,  0.0831, -0.0853, -0.0879],\n",
      "          [-0.1337,  0.0143, -0.1669, -0.1887,  0.1385]]],\n",
      "\n",
      "\n",
      "        [[[-0.0653,  0.1057, -0.0347,  0.1890, -0.1790],\n",
      "          [-0.1270, -0.1675,  0.0216,  0.1094, -0.0347],\n",
      "          [-0.0262, -0.1717,  0.1717, -0.0319,  0.0837],\n",
      "          [ 0.0965, -0.1510,  0.1830, -0.0457,  0.0981],\n",
      "          [-0.1108,  0.0782, -0.0769,  0.0453,  0.0116]]],\n",
      "\n",
      "\n",
      "        [[[ 0.0885,  0.0246, -0.0109,  0.0586,  0.0629],\n",
      "          [-0.0224,  0.0451,  0.1404, -0.0818, -0.1240],\n",
      "          [-0.1787,  0.1036,  0.1552, -0.1143, -0.1109],\n",
      "          [ 0.0301,  0.0671, -0.0608,  0.0294, -0.1000],\n",
      "          [ 0.0889, -0.0572, -0.0534, -0.0732, -0.0835]]],\n",
      "\n",
      "\n",
      "        [[[ 0.1557,  0.0090, -0.0032, -0.0277, -0.1265],\n",
      "          [ 0.1348, -0.0584,  0.1905,  0.1460, -0.1178],\n",
      "          [ 0.1906, -0.1208,  0.1334, -0.0734,  0.1377],\n",
      "          [ 0.1710,  0.0907,  0.0615, -0.0799,  0.1624],\n",
      "          [-0.1357, -0.1907, -0.0006, -0.0224,  0.0442]]],\n",
      "\n",
      "\n",
      "        [[[-0.1307, -0.1985, -0.0278, -0.1045, -0.0725],\n",
      "          [-0.0751, -0.1944, -0.0309, -0.1955, -0.1145],\n",
      "          [-0.1007, -0.0788, -0.0436, -0.1715,  0.0401],\n",
      "          [ 0.0126,  0.0819, -0.1259,  0.1044, -0.0133],\n",
      "          [-0.0614,  0.0443,  0.0221, -0.1332, -0.1775]]]], requires_grad=True)), ('bias', Parameter containing:\n",
      "tensor([-0.1678,  0.1447, -0.1709,  0.0165,  0.0586,  0.1360],\n",
      "       requires_grad=True))]\n"
     ]
    }
   ],
   "source": [
    "module = model.conv1\n",
    "print(list(module.named_parameters()))"
   ]
  },
  {
   "cell_type": "code",
   "execution_count": 10,
   "metadata": {},
   "outputs": [],
   "source": [
    "model = LeNet()\n",
    "\n",
    "parameters_to_prune = (\n",
    "    (model.conv1, 'weight'),\n",
    "    (model.conv2, 'weight'),\n",
    "    (model.fc1, 'weight'),\n",
    "    (model.fc2, 'weight'),\n",
    "    (model.fc3, 'weight'),\n",
    ")\n",
    "\n",
    "prune.global_unstructured(\n",
    "    parameters_to_prune,\n",
    "    pruning_method=prune.L1Unstructured,\n",
    "    amount=0.2,\n",
    ")"
   ]
  },
  {
   "cell_type": "code",
   "execution_count": 11,
   "metadata": {},
   "outputs": [
    {
     "name": "stdout",
     "output_type": "stream",
     "text": [
      "Sparsity in conv1.weight: 4.00%\n",
      "Sparsity in conv2.weight: 13.12%\n",
      "Sparsity in fc1.weight: 22.13%\n",
      "Sparsity in fc2.weight: 12.41%\n",
      "Sparsity in fc3.weight: 11.79%\n",
      "Global sparsity: 20.00%\n"
     ]
    }
   ],
   "source": [
    "print(\n",
    "    \"Sparsity in conv1.weight: {:.2f}%\".format(\n",
    "        100. * float(torch.sum(model.conv1.weight == 0))\n",
    "        / float(model.conv1.weight.nelement())\n",
    "    )\n",
    ")\n",
    "print(\n",
    "    \"Sparsity in conv2.weight: {:.2f}%\".format(\n",
    "        100. * float(torch.sum(model.conv2.weight == 0))\n",
    "        / float(model.conv2.weight.nelement())\n",
    "    )\n",
    ")\n",
    "print(\n",
    "    \"Sparsity in fc1.weight: {:.2f}%\".format(\n",
    "        100. * float(torch.sum(model.fc1.weight == 0))\n",
    "        / float(model.fc1.weight.nelement())\n",
    "    )\n",
    ")\n",
    "print(\n",
    "    \"Sparsity in fc2.weight: {:.2f}%\".format(\n",
    "        100. * float(torch.sum(model.fc2.weight == 0))\n",
    "        / float(model.fc2.weight.nelement())\n",
    "    )\n",
    ")\n",
    "print(\n",
    "    \"Sparsity in fc3.weight: {:.2f}%\".format(\n",
    "        100. * float(torch.sum(model.fc3.weight == 0))\n",
    "        / float(model.fc3.weight.nelement())\n",
    "    )\n",
    ")\n",
    "print(\n",
    "    \"Global sparsity: {:.2f}%\".format(\n",
    "        100. * float(\n",
    "            torch.sum(model.conv1.weight == 0)\n",
    "            + torch.sum(model.conv2.weight == 0)\n",
    "            + torch.sum(model.fc1.weight == 0)\n",
    "            + torch.sum(model.fc2.weight == 0)\n",
    "            + torch.sum(model.fc3.weight == 0)\n",
    "        )\n",
    "        / float(\n",
    "            model.conv1.weight.nelement()\n",
    "            + model.conv2.weight.nelement()\n",
    "            + model.fc1.weight.nelement()\n",
    "            + model.fc2.weight.nelement()\n",
    "            + model.fc3.weight.nelement()\n",
    "        )\n",
    "    )\n",
    ")"
   ]
  }
 ],
 "metadata": {
  "kernelspec": {
   "display_name": "pt2",
   "language": "python",
   "name": "python3"
  },
  "language_info": {
   "codemirror_mode": {
    "name": "ipython",
    "version": 3
   },
   "file_extension": ".py",
   "mimetype": "text/x-python",
   "name": "python",
   "nbconvert_exporter": "python",
   "pygments_lexer": "ipython3",
   "version": "3.11.7"
  }
 },
 "nbformat": 4,
 "nbformat_minor": 2
}
