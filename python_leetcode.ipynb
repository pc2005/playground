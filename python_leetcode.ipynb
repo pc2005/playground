{
 "cells": [
  {
   "cell_type": "code",
   "execution_count": 2,
   "metadata": {},
   "outputs": [
    {
     "name": "stdout",
     "output_type": "stream",
     "text": [
      "(0, 3)\n"
     ]
    }
   ],
   "source": [
    "# Two sum\n",
    "# target = 9\n",
    "nums = [2, 11, 15, 7]\n",
    "def two_sum(nums, target):\n",
    "    lut = {}\n",
    "    for idx, num in enumerate(nums):\n",
    "        complement = target-num\n",
    "        if complement in lut:\n",
    "            return (lut[complement], idx)\n",
    "        lut[num] = idx\n",
    "        \n",
    "    return ()\n",
    "\n",
    "pair = two_sum(nums, target=9)\n",
    "print(pair)"
   ]
  },
  {
   "cell_type": "code",
   "execution_count": 5,
   "metadata": {},
   "outputs": [
    {
     "name": "stdout",
     "output_type": "stream",
     "text": [
      "[8, 0, 3, 0, 1]\n"
     ]
    }
   ],
   "source": [
    "# Add two nums\n",
    "def add_two_numbers(l1, l2):\n",
    "    l_ret = []\n",
    "    carry = 0\n",
    "    len_l1 = len(l1)\n",
    "    len_l2 = len(l2)\n",
    "    for i in range(max(len_l1, len_l2)):\n",
    "        if i<min(len_l1, len_l2):\n",
    "            carry, val = divmod(l1[i]+l2[i]+carry, 10)\n",
    "        else:\n",
    "            if carry>0:\n",
    "                carry, val = divmod((l1[i] if len_l1>len_l2 else l2[i])+carry, 10)\n",
    "            else:\n",
    "                val = l1[i] if len_l1>len_l2 else l2[i]\n",
    "        l_ret.append(val)\n",
    "\n",
    "    # if carry to a new node\n",
    "    if carry>0:\n",
    "        l_ret.append(carry)\n",
    "\n",
    "    return l_ret\n",
    "\n",
    "\n",
    "l1 = [1,2,3]\n",
    "l2 = [7,8,9,9]\n",
    "l3 = add_two_numbers(l1, l2)\n",
    "print(l3)"
   ]
  },
  {
   "cell_type": "code",
   "execution_count": null,
   "metadata": {},
   "outputs": [],
   "source": []
  }
 ],
 "metadata": {
  "kernelspec": {
   "display_name": "pt2",
   "language": "python",
   "name": "python3"
  },
  "language_info": {
   "codemirror_mode": {
    "name": "ipython",
    "version": 3
   },
   "file_extension": ".py",
   "mimetype": "text/x-python",
   "name": "python",
   "nbconvert_exporter": "python",
   "pygments_lexer": "ipython3",
   "version": "3.11.10"
  }
 },
 "nbformat": 4,
 "nbformat_minor": 2
}
