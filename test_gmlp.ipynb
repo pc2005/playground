{
 "cells": [
  {
   "cell_type": "code",
   "execution_count": 2,
   "metadata": {},
   "outputs": [],
   "source": [
    "import torch\n",
    "from torch import nn\n",
    "from g_mlp_pytorch import gMLP"
   ]
  },
  {
   "cell_type": "code",
   "execution_count": 5,
   "metadata": {},
   "outputs": [],
   "source": [
    "model = gMLP(\n",
    "    num_tokens = 20000,\n",
    "    dim = 512,\n",
    "    depth = 6,\n",
    "    seq_len = 256,\n",
    "    attn_dim=64,\n",
    "    circulant_matrix = True,      # use circulant weight matrix for linear increase in parameters in respect to sequence length\n",
    "    act = nn.Tanh()               # activation for spatial gate (defaults to identity)\n",
    ")"
   ]
  },
  {
   "cell_type": "code",
   "execution_count": 6,
   "metadata": {},
   "outputs": [
    {
     "name": "stdout",
     "output_type": "stream",
     "text": [
      "tensor([[[-0.2462, -0.3028,  0.0592,  ...,  0.4625,  0.1959, -0.2689],\n",
      "         [ 0.2160,  0.1295,  0.2143,  ..., -0.1680, -0.3510, -0.6935],\n",
      "         [-0.6796, -0.7663,  1.2161,  ...,  0.4081, -0.4737, -0.0968],\n",
      "         ...,\n",
      "         [-0.5456,  0.0677, -0.1205,  ..., -0.3520,  1.2341,  0.6346],\n",
      "         [ 0.4872,  1.3345, -1.2313,  ..., -0.3325,  0.6884, -0.1975],\n",
      "         [ 0.3680,  0.4513, -0.0881,  ...,  0.0570, -0.3023, -0.1687]]],\n",
      "       grad_fn=<ViewBackward0>)\n"
     ]
    }
   ],
   "source": [
    "x = torch.randint(0, 20000, (1, 256))\n",
    "logits = model(x) # (1, 256, 20000)\n",
    "print(logits)"
   ]
  }
 ],
 "metadata": {
  "kernelspec": {
   "display_name": "pt2",
   "language": "python",
   "name": "python3"
  },
  "language_info": {
   "codemirror_mode": {
    "name": "ipython",
    "version": 3
   },
   "file_extension": ".py",
   "mimetype": "text/x-python",
   "name": "python",
   "nbconvert_exporter": "python",
   "pygments_lexer": "ipython3",
   "version": "3.11.5"
  }
 },
 "nbformat": 4,
 "nbformat_minor": 2
}
