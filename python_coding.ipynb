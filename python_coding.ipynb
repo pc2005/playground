{
 "cells": [
  {
   "cell_type": "code",
   "execution_count": 1,
   "metadata": {},
   "outputs": [
    {
     "data": {
      "text/plain": [
       "5050"
      ]
     },
     "execution_count": 1,
     "metadata": {},
     "output_type": "execute_result"
    }
   ],
   "source": [
    "sum(range(0, 101))"
   ]
  },
  {
   "cell_type": "code",
   "execution_count": 2,
   "metadata": {},
   "outputs": [
    {
     "name": "stdout",
     "output_type": "stream",
     "text": [
      "4\n"
     ]
    }
   ],
   "source": [
    "a=5\n",
    "def fn():\n",
    "    global a\n",
    "    a=4\n",
    "\n",
    "fn()\n",
    "print(a) "
   ]
  },
  {
   "cell_type": "code",
   "execution_count": 4,
   "metadata": {},
   "outputs": [
    {
     "data": {
      "text/plain": [
       "{'age': 18, 'name': 'ls'}"
      ]
     },
     "execution_count": 4,
     "metadata": {},
     "output_type": "execute_result"
    }
   ],
   "source": [
    "dic = {\"name\": \"zs\", \"age\": 18}\n",
    "del dic[\"name\"]\n",
    "dic\n",
    "dic2 = {\"name\": \"ls\"}\n",
    "dic.update(dic2)\n",
    "dic"
   ]
  },
  {
   "cell_type": "code",
   "execution_count": null,
   "metadata": {},
   "outputs": [
    {
     "name": "stdout",
     "output_type": "stream",
     "text": [
      "{11, 12, 13, 15, 16, 17}\n",
      "[11, 12, 13, 15, 16, 17]\n"
     ]
    }
   ],
   "source": [
    "list = [11, 12, 13, 12, 15, 16, 13, 17]\n",
    "a = set(list)   # remove duplicates\n",
    "print(a)\n",
    "list2 = [x for x in a]\n",
    "print(list2)"
   ]
  },
  {
   "cell_type": "code",
   "execution_count": 15,
   "metadata": {},
   "outputs": [
    {
     "name": "stdout",
     "output_type": "stream",
     "text": [
      "(10, 'a')\n",
      "name ls\n"
     ]
    }
   ],
   "source": [
    "# args contains unnamed args\n",
    "# kwargs contains args with key name\n",
    "def args_demo(*args, **kwargs):\n",
    "    print(args)\n",
    "    for k,v in kwargs.items():\n",
    "        print(k, v)\n",
    "\n",
    "args_demo(10, 'a', name = \"ls\")"
   ]
  },
  {
   "cell_type": "code",
   "execution_count": null,
   "metadata": {},
   "outputs": [
    {
     "data": {
      "text/plain": [
       "range"
      ]
     },
     "execution_count": 16,
     "metadata": {},
     "output_type": "execute_result"
    }
   ],
   "source": [
    "# range in python 3 returns iterator\n",
    "type(range(100))"
   ]
  },
  {
   "cell_type": "code",
   "execution_count": null,
   "metadata": {},
   "outputs": [
    {
     "data": {
      "text/plain": [
       "<map at 0x106271d80>"
      ]
     },
     "execution_count": 21,
     "metadata": {},
     "output_type": "execute_result"
    }
   ],
   "source": [
    "list = [1,2,3,4,5]\n",
    "def fn(x):\n",
    "    return x**2\n",
    "\n",
    "res = map(fn, list)  # returns an iterator\n",
    "res"
   ]
  },
  {
   "cell_type": "code",
   "execution_count": 22,
   "metadata": {},
   "outputs": [
    {
     "name": "stdout",
     "output_type": "stream",
     "text": [
      "15 [ 2.08561793 -0.06337951 -0.36491755  0.7163987   0.22882633] 0.6243853485848634\n"
     ]
    }
   ],
   "source": [
    "import random\n",
    "import numpy as np\n",
    "\n",
    "result = random.randint(10, 20)\n",
    "res = np.random.randn(5)\n",
    "ret = random.random()\n",
    "\n",
    "print(result, res, ret)"
   ]
  },
  {
   "cell_type": "code",
   "execution_count": 25,
   "metadata": {},
   "outputs": [
    {
     "name": "stdout",
     "output_type": "stream",
     "text": [
      "['Canada']\n"
     ]
    }
   ],
   "source": [
    "import re\n",
    "str = '<div class=\"name\">Canada<div>'\n",
    "res = re.findall(r'<div class=\".*\">(.*?)<div>', str)\n",
    "print(res)"
   ]
  },
  {
   "cell_type": "code",
   "execution_count": null,
   "metadata": {},
   "outputs": [
    {
     "name": "stdout",
     "output_type": "stream",
     "text": [
      "assert(a) ok\n",
      "assert(b) failed\n"
     ]
    }
   ],
   "source": [
    "# assert\n",
    "a=3\n",
    "assert(a>1)\n",
    "print('assert(a) ok')\n",
    "\n",
    "b=7\n",
    "try:\n",
    "    assert(b<4) # throw assert exception\n",
    "except:\n",
    "    print('assert(b) failed')"
   ]
  },
  {
   "cell_type": "code",
   "execution_count": null,
   "metadata": {},
   "outputs": [
    {
     "name": "stdout",
     "output_type": "stream",
     "text": [
      "{'l', 'f', 'a', 'j', 'd'}\n",
      "adfjl\n"
     ]
    }
   ],
   "source": [
    "s = \"ajldjlajfdljfddd\"\n",
    "s = set(s)  # remove duplicate\n",
    "print(s)\n",
    "s1 = [x for x in s]\n",
    "s1.sort(reverse=False)  # sort\n",
    "ret = \"\".join(s1) # to string\n",
    "print(ret)"
   ]
  },
  {
   "cell_type": "code",
   "execution_count": 34,
   "metadata": {},
   "outputs": [
    {
     "name": "stdout",
     "output_type": "stream",
     "text": [
      "20\n"
     ]
    }
   ],
   "source": [
    "# lambda function\n",
    "mul = lambda a,b: a*b\n",
    "print(mul(5,4))"
   ]
  },
  {
   "cell_type": "code",
   "execution_count": null,
   "metadata": {},
   "outputs": [
    {
     "name": "stdout",
     "output_type": "stream",
     "text": [
      "[('age', 18), ('city', 'Toronto'), ('name', 'zs'), ('tel', '1234567890')]\n",
      "{'age': 18, 'city': 'Toronto', 'name': 'zs', 'tel': '1234567890'}\n"
     ]
    }
   ],
   "source": [
    "# sort dict keys\n",
    "dict = {\"name\": \"zs\", \"age\": 18, \"city\":\"Toronto\", \"tel\":\"1234567890\"}\n",
    "list = sorted(dict.items(), key=lambda i:i[0], reverse=False)   # convert to list and sort\n",
    "print(list)\n",
    "new_dict = {} # list to dict\n",
    "for i in list:\n",
    "    new_dict[i[0]] = i[1]\n",
    "print(new_dict)"
   ]
  },
  {
   "cell_type": "code",
   "execution_count": null,
   "metadata": {},
   "outputs": [
    {
     "name": "stdout",
     "output_type": "stream",
     "text": [
      "4422092352\n",
      "4422092352\n",
      "4421543936\n",
      "4421543936\n",
      "4413814624\n",
      "4413814624\n",
      "4412767536\n",
      "4412767536\n",
      "4421547760\n",
      "4404175600\n",
      "4342559984\n",
      "4342560016\n"
     ]
    },
    {
     "ename": "AttributeError",
     "evalue": "'frozenset' object has no attribute 'add'",
     "output_type": "error",
     "traceback": [
      "\u001b[0;31m---------------------------------------------------------------------------\u001b[0m",
      "\u001b[0;31mAttributeError\u001b[0m                            Traceback (most recent call last)",
      "Cell \u001b[0;32mIn[48], line 54\u001b[0m\n\u001b[1;32m     52\u001b[0m \u001b[38;5;66;03m# frozen sets\u001b[39;00m\n\u001b[1;32m     53\u001b[0m my_frozen_set \u001b[38;5;241m=\u001b[39m \u001b[38;5;28mfrozenset\u001b[39m([\u001b[38;5;241m1\u001b[39m, \u001b[38;5;241m2\u001b[39m, \u001b[38;5;241m3\u001b[39m])\n\u001b[0;32m---> 54\u001b[0m \u001b[43mmy_frozen_set\u001b[49m\u001b[38;5;241;43m.\u001b[39;49m\u001b[43madd\u001b[49m(\u001b[38;5;241m4\u001b[39m)  \u001b[38;5;66;03m# This will raise an error\u001b[39;00m\n",
      "\u001b[0;31mAttributeError\u001b[0m: 'frozenset' object has no attribute 'add'"
     ]
    }
   ],
   "source": [
    "### mutable data types\n",
    "\"\"\"\n",
    "Mutable types allow you to modify the data in place, \n",
    "meaning you can change their contents without creating a new object. \n",
    "\"\"\"\n",
    "# list\n",
    "my_list = [1, 2, 3]\n",
    "print(id(my_list))\n",
    "my_list.append(4)\n",
    "print(id(my_list))\n",
    "\n",
    "# dictionary\n",
    "my_dict = {\"a\":1, \"b\":2,}\n",
    "print(id(my_dict))\n",
    "my_dict[\"c\"] = 3\n",
    "print(id(my_dict))\n",
    "\n",
    "# set\n",
    "my_set = {1, 2, 3}\n",
    "print(id(my_set))\n",
    "my_set.add(4)  # my_set becomes {1, 2, 3, 4}\n",
    "print(id(my_set))\n",
    "\n",
    "# bytearray\n",
    "my_byte_array = bytearray(b\"Hello\")\n",
    "print(id(my_byte_array))\n",
    "my_byte_array[0] = ord(\"J\")  # my_byte_array becomes b'Jello'\n",
    "print(id(my_byte_array))\n",
    "\n",
    "### immutable data types\n",
    "\"\"\"\n",
    "Immutable types cannot be changed once created. \n",
    "Any modification creates a new object in memory.\n",
    "\"\"\"\n",
    "# String\n",
    "my_str = \"abcd\"\n",
    "print(id(my_str))\n",
    "my_str = my_str+\"d\"\n",
    "print(id(my_str))\n",
    "\n",
    "# Tuples\n",
    "my_tuple = (1, 2, 3)\n",
    "my_tuple[2]\n",
    "# my_tuple[0] = 10  # This will raise an error\n",
    "\n",
    "# integers, float, complex numbers\n",
    "x = 5\n",
    "print(id(x))\n",
    "x += 1  # A new integer object is created with value 6\n",
    "print(id(x))\n",
    "\n",
    "# frozen sets\n",
    "my_frozen_set = frozenset([1, 2, 3])\n",
    "# my_frozen_set.add(4)  # This will raise an error"
   ]
  },
  {
   "cell_type": "code",
   "execution_count": 50,
   "metadata": {},
   "outputs": [
    {
     "name": "stdout",
     "output_type": "stream",
     "text": [
      "Counter({1: 3, 2: 3, 3: 3, 5: 3, 4: 2, 7: 1, 6: 1})\n"
     ]
    }
   ],
   "source": [
    "# use counter to count frequency of letters\n",
    "from collections import Counter\n",
    "# a = \"askfklashewojwhfaklghraojefhinbvaiehelajfkaleflagfealaghrepa'jfoefakhfrahfeoajfiaeurh\"\n",
    "a = [1, 2, 3, 1, 2 ,3, 4, 5, 5, 7, 6,5,4,3,2,1]\n",
    "res = Counter(a)\n",
    "print(res)"
   ]
  },
  {
   "cell_type": "code",
   "execution_count": 54,
   "metadata": {},
   "outputs": [
    {
     "name": "stdout",
     "output_type": "stream",
     "text": [
      "[1, 3, 5, 7, 9, 11, 13]\n",
      "[1, 3, 5, 7, 9, 11, 13]\n"
     ]
    }
   ],
   "source": [
    "# get odd numbers with filter\n",
    "a = [1,2,3,4,5,6,7,8,9,10,11,12,13,]\n",
    "def fn(a):\n",
    "    return a%2==1\n",
    "\n",
    "new_list = filter(fn, a)\n",
    "new_list = [i for i in new_list]\n",
    "\n",
    "new_list2 = [i for i in a if fn(i)==True]\n",
    "print(new_list)\n",
    "print(new_list2)"
   ]
  },
  {
   "cell_type": "code",
   "execution_count": 55,
   "metadata": {},
   "outputs": [
    {
     "name": "stdout",
     "output_type": "stream",
     "text": [
      "[1, 5, 7, 9, 2, 2, 6, 8]\n",
      "[1, 2, 2, 5, 6, 7, 8, 9]\n"
     ]
    }
   ],
   "source": [
    "# merge and sort two lists\n",
    "list_1 = [1,5,7,9]\n",
    "list_2 = [2,2,6,8]\n",
    "\n",
    "list_1.extend(list_2)   # merge\n",
    "print(list_1)\n",
    "list_1.sort(reverse=False)\n",
    "print(list_1)"
   ]
  },
  {
   "cell_type": "code",
   "execution_count": 66,
   "metadata": {},
   "outputs": [
    {
     "name": "stdout",
     "output_type": "stream",
     "text": [
      "2024-11-07 10:56:38 week: 4\n"
     ]
    }
   ],
   "source": [
    "# use datetime to get timestamps\n",
    "import datetime\n",
    "a = datetime.datetime.now().strftime(\"%Y-%m-%d %H:%M:%S\") + \" week: \" + f\"{datetime.datetime.now().isoweekday()}\"\n",
    "print(a)"
   ]
  },
  {
   "cell_type": "code",
   "execution_count": 67,
   "metadata": {},
   "outputs": [
    {
     "name": "stdout",
     "output_type": "stream",
     "text": [
      "number > 2\n"
     ]
    }
   ],
   "source": [
    "# raise exception\n",
    "def fn():\n",
    "    try:\n",
    "        for i in range(5):\n",
    "            if i>2:\n",
    "                raise Exception(\"number > 2\")\n",
    "    except Exception as ret:\n",
    "        print(ret)\n",
    "\n",
    "fn()"
   ]
  },
  {
   "cell_type": "code",
   "execution_count": 68,
   "metadata": {},
   "outputs": [
    {
     "name": "stdout",
     "output_type": "stream",
     "text": [
      "greedy matching:  ['haha</a><a>hehe']\n",
      "non-greedy matching:  ['haha', 'hehe']\n"
     ]
    }
   ],
   "source": [
    "# greedy or non-greedy matching in RE\n",
    "import re\n",
    "s = \"<a>haha</a><a>hehe</a>\"\n",
    "res1=re.findall(\"<a>(.*)</a>\", s)\n",
    "print(\"greedy matching: \", res1)\n",
    "res2 =re.findall(\"<a>(.*?)</a>\", s)\n",
    "print(\"non-greedy matching: \", res2)"
   ]
  },
  {
   "cell_type": "code",
   "execution_count": 70,
   "metadata": {},
   "outputs": [
    {
     "name": "stdout",
     "output_type": "stream",
     "text": [
      "[1, 2, 3, 4, 5, 6]\n",
      "[1, 2, 3, 4, 5, 6]\n"
     ]
    }
   ],
   "source": [
    "# flatten a list\n",
    "import numpy as np\n",
    "a = [[1,2],[3,4],[5,6]]\n",
    "x = [j for i in a for j in i]\n",
    "print(x)\n",
    "\n",
    "arr = np.array(a)\n",
    "print(arr.flatten().tolist())"
   ]
  },
  {
   "cell_type": "code",
   "execution_count": 71,
   "metadata": {},
   "outputs": [
    {
     "name": "stdout",
     "output_type": "stream",
     "text": [
      "3 4\n",
      "4 3\n"
     ]
    }
   ],
   "source": [
    "# swap values of two variables\n",
    "a,b = 3,4\n",
    "print(a,b)\n",
    "a,b = b,a\n",
    "print(a,b)"
   ]
  },
  {
   "cell_type": "code",
   "execution_count": 72,
   "metadata": {},
   "outputs": [
    {
     "name": "stdout",
     "output_type": "stream",
     "text": [
      "[(1, 3), (2, 4)]\n"
     ]
    }
   ],
   "source": [
    "# use of zip function\n",
    "a = [1,2]\n",
    "b = [3,4]\n",
    "res = [i for i in zip(a,b)]\n",
    "print(res)"
   ]
  },
  {
   "cell_type": "code",
   "execution_count": 1,
   "metadata": {},
   "outputs": [
    {
     "name": "stdout",
     "output_type": "stream",
     "text": [
      "Max grade: 100%\n"
     ]
    }
   ],
   "source": [
    "# substitute string\n",
    "import re\n",
    "a = \"Max grade: 98%\"\n",
    "ret = re.sub(\"\\d+\", \"100\", a)\n",
    "print(ret)"
   ]
  },
  {
   "cell_type": "code",
   "execution_count": 2,
   "metadata": {},
   "outputs": [
    {
     "name": "stdout",
     "output_type": "stream",
     "text": [
      "b'hello' b'\\xe5\\x91\\xb5\\xe5\\x91\\xb5'\n",
      "<class 'bytes'> <class 'bytes'>\n"
     ]
    }
   ],
   "source": [
    "# string to bytes\n",
    "a = b\"hello\"\n",
    "b = \"呵呵\".encode(\"utf-8\")\n",
    "\n",
    "print(a,b)\n",
    "print(type(a), type(b))"
   ]
  },
  {
   "cell_type": "code",
   "execution_count": 3,
   "metadata": {},
   "outputs": [
    {
     "name": "stdout",
     "output_type": "stream",
     "text": [
      "[1, 2, 3, 4, 5, 6]\n"
     ]
    }
   ],
   "source": [
    "# adding lists are equivalent to extend\n",
    "a = [1,2,3]\n",
    "b = [4,5,6]\n",
    "res = a+b\n",
    "print(res)"
   ]
  },
  {
   "cell_type": "code",
   "execution_count": null,
   "metadata": {},
   "outputs": [
    {
     "name": "stdout",
     "output_type": "stream",
     "text": [
      "[2, 3, 4, 5, 6, 9]\n"
     ]
    }
   ],
   "source": [
    "# sort a list w/o sort() function\n",
    "l = [2,3,5,4,9,6]\n",
    "new_list = []\n",
    "def get_min(l):\n",
    "    a = min(l)\n",
    "    l.remove(a)\n",
    "    new_list.append(a)\n",
    "    if len(l)>0:\n",
    "        get_min(l)\n",
    "    return new_list\n",
    "\n",
    "new_list = get_min(l)\n",
    "print(new_list)"
   ]
  },
  {
   "cell_type": "code",
   "execution_count": 5,
   "metadata": {},
   "outputs": [
    {
     "name": "stdout",
     "output_type": "stream",
     "text": [
      "{'one': 1}\n",
      "{'one': 1, 'two': 2}\n",
      "{'three': 3}\n"
     ]
    }
   ],
   "source": [
    "# dictionary\n",
    "def fn(k,v,dic={}):\n",
    "    dic[k]=v\n",
    "    print(dic)\n",
    "fn(\"one\", 1)\n",
    "fn(\"two\", 2)\n",
    "fn(\"three\", 3, {})"
   ]
  },
  {
   "cell_type": "code",
   "execution_count": 6,
   "metadata": {},
   "outputs": [
    {
     "name": "stdout",
     "output_type": "stream",
     "text": [
      "<class 'dict'>\n",
      "<class 'dict'>\n"
     ]
    }
   ],
   "source": [
    "# use pop() and del() to remove dictionary entry\n",
    "dic = {\"name\":\"zs\", \"age\":18}\n",
    "dic.pop(\"name\")\n",
    "print(dict)\n",
    "dic = {\"name\":\"zs\", \"age\":18}\n",
    "del dic[\"name\"]\n",
    "print(dict)"
   ]
  },
  {
   "cell_type": "code",
   "execution_count": null,
   "metadata": {},
   "outputs": [
    {
     "name": "stdout",
     "output_type": "stream",
     "text": [
      "[0, 2, 4, 8, 8, 9, -2, -4, -4, -5, -20]\n"
     ]
    }
   ],
   "source": [
    "# sorting with lambda keys?\n",
    "foo = [-5, 8, 0, 4, 9, -4, -20, -2, 8, 2, -4]\n",
    "a = sorted(foo, key=lambda x:(x<0, abs(x)))\n",
    "print(a)"
   ]
  },
  {
   "cell_type": "code",
   "execution_count": 8,
   "metadata": {},
   "outputs": [
    {
     "data": {
      "text/plain": [
       "'\\n__init__    when object inits\\n__new__     when object start\\n__str__     for print(obj)\\n__del__     when object gets deleted\\n'"
      ]
     },
     "execution_count": 8,
     "metadata": {},
     "output_type": "execute_result"
    }
   ],
   "source": [
    "# magic methods\n",
    "\"\"\"\n",
    "__init__    when object inits\n",
    "__new__     when object start\n",
    "__str__     for print(obj)\n",
    "__del__     when object gets deleted\n",
    "\"\"\""
   ]
  },
  {
   "cell_type": "code",
   "execution_count": 12,
   "metadata": {},
   "outputs": [
    {
     "name": "stdout",
     "output_type": "stream",
     "text": [
      "<class 'generator'>\n",
      "0\n",
      "1\n",
      "2\n"
     ]
    }
   ],
   "source": [
    "# generator\n",
    "a = (i for i in range(3))\n",
    "print(type(a))\n",
    "for num in a:\n",
    "    print(num)"
   ]
  },
  {
   "cell_type": "code",
   "execution_count": 15,
   "metadata": {},
   "outputs": [
    {
     "name": "stdout",
     "output_type": "stream",
     "text": [
      "hehe\n"
     ]
    }
   ],
   "source": [
    "# remove leading and trailing symbols\n",
    "a = \",hehe,,,\"\n",
    "print(a.strip(','))"
   ]
  },
  {
   "cell_type": "code",
   "execution_count": null,
   "metadata": {},
   "outputs": [
    {
     "name": "stdout",
     "output_type": "stream",
     "text": [
      "[('ll', 54), ('df', 23), ('zs', 19), ('wa', 17)]\n",
      "[('df', 23), ('ll', 54), ('wa', 17), ('zs', 19)]\n"
     ]
    }
   ],
   "source": [
    "# sorting tuples using lambda function\n",
    "foo=[(\"zs\", 19), (\"ll\", 54), (\"wa\", 17), (\"df\",23)]\n",
    "a = sorted(foo, key=lambda x:x[1], reverse=True)\n",
    "print(a)\n",
    "b = sorted(foo, key=lambda x:x[0])\n",
    "print(b)"
   ]
  },
  {
   "cell_type": "code",
   "execution_count": 19,
   "metadata": {},
   "outputs": [
    {
     "name": "stdout",
     "output_type": "stream",
     "text": [
      "[0, 1, 2, 3, 4, 5, 6, 7, 8, 9]\n",
      "0\n",
      "1\n",
      "2\n",
      "3\n",
      "4\n",
      "5\n",
      "6\n",
      "7\n",
      "8\n",
      "9\n",
      "{'a': 7, 'b': 4, 'c': 9, 'd': 7} <class 'dict'>\n"
     ]
    }
   ],
   "source": [
    "import random\n",
    "# iterator\n",
    "td_list = [i for i in range(10)]\n",
    "print(td_list)\n",
    "\n",
    "# generator\n",
    "ge_list = (i for i in range(10))\n",
    "for v in ge_list:\n",
    "    print(v)\n",
    "\n",
    "# dictionary\n",
    "dic = {k:random.randint(4,9) for k in [\"a\",\"b\",\"c\",\"d\"]}\n",
    "print(dic, type(dic))"
   ]
  },
  {
   "cell_type": "code",
   "execution_count": 21,
   "metadata": {},
   "outputs": [
    {
     "name": "stdout",
     "output_type": "stream",
     "text": [
      "['a', 'ab', 'abc', 'djkj']\n",
      "['a', 'ab', 'abc', 'djkj']\n"
     ]
    }
   ],
   "source": [
    "# sort string by length\n",
    "s = [\"ab\", \"abc\", \"a\", \"djkj\"]\n",
    "b = sorted(s, key=lambda x:len(x))\n",
    "print(b)\n",
    "s.sort(key=len)\n",
    "print(s)"
   ]
  },
  {
   "cell_type": "code",
   "execution_count": 22,
   "metadata": {},
   "outputs": [
    {
     "name": "stdout",
     "output_type": "stream",
     "text": [
      "55\n"
     ]
    }
   ],
   "source": [
    "# recursive sum\n",
    "def get_sum(num):\n",
    "    if num>=1:\n",
    "        res = num+get_sum(num-1)\n",
    "    else:\n",
    "        res = 0\n",
    "\n",
    "    return res\n",
    "\n",
    "res = get_sum(10)\n",
    "print(res)"
   ]
  },
  {
   "cell_type": "code",
   "execution_count": 23,
   "metadata": {},
   "outputs": [
    {
     "name": "stdout",
     "output_type": "stream",
     "text": [
      "{\"name\": \"zs\"} <class 'str'>\n",
      "{'name': 'zs'} <class 'dict'>\n"
     ]
    }
   ],
   "source": [
    "# json\n",
    "import json\n",
    "dic = {\"name\":\"zs\"}\n",
    "res = json.dumps(dic)\n",
    "print(res, type(res))\n",
    "ret = json.loads(res)\n",
    "print(ret, type(ret))"
   ]
  },
  {
   "cell_type": "code",
   "execution_count": 24,
   "metadata": {},
   "outputs": [
    {
     "name": "stdout",
     "output_type": "stream",
     "text": [
      "3\n"
     ]
    }
   ],
   "source": [
    "# count a word\n",
    "str = \"tom is living in America with tom and tom\"\n",
    "res = str.count(\"tom\")\n",
    "print(res)"
   ]
  },
  {
   "cell_type": "code",
   "execution_count": 25,
   "metadata": {},
   "outputs": [
    {
     "name": "stdout",
     "output_type": "stream",
     "text": [
      "HHHUUU\n",
      "hhhuuu\n"
     ]
    }
   ],
   "source": [
    "# uppercase and lower case\n",
    "str = \"HHHuuu\"\n",
    "print(str.upper())\n",
    "print(str.lower())"
   ]
  },
  {
   "cell_type": "code",
   "execution_count": 28,
   "metadata": {},
   "outputs": [
    {
     "name": "stdout",
     "output_type": "stream",
     "text": [
      "helloworldhaha\n",
      "helloworldhaha\n"
     ]
    }
   ],
   "source": [
    "# removing spaces\n",
    "str = \"hello world ha ha \"\n",
    "res1=str.replace(\" \",\"\")\n",
    "print(res1)\n",
    "\n",
    "list = str.split(\" \")\n",
    "res2 = \"\".join(list)\n",
    "print(res2)"
   ]
  },
  {
   "cell_type": "code",
   "execution_count": 29,
   "metadata": {},
   "outputs": [
    {
     "name": "stdout",
     "output_type": "stream",
     "text": [
      "62.101106758355776\n",
      "47\n",
      "58\n"
     ]
    }
   ],
   "source": [
    "# generate random number within 0-100\n",
    "import random\n",
    "res1 = 100*random.random()\n",
    "res2 = random.choice(range(0,101))\n",
    "res3 = random.randint(1, 100)\n",
    "print(res1)\n",
    "print(res2)\n",
    "print(res3)"
   ]
  },
  {
   "cell_type": "code",
   "execution_count": 1,
   "metadata": {},
   "outputs": [
    {
     "name": "stdout",
     "output_type": "stream",
     "text": [
      "['a', 'b', 'n/a', 'c', 'n/a', 'n/a', 'd', 'n/a']\n"
     ]
    }
   ],
   "source": [
    "# string filler\n",
    "a = [\"a\", \"b\", \"\", \"c\", \"\", \"\", \"d\",\"\"]\n",
    "res = list(map(lambda x:\"n/a\" if x==\"\" else x, a))\n",
    "print(res)"
   ]
  },
  {
   "cell_type": "code",
   "execution_count": null,
   "metadata": {},
   "outputs": [],
   "source": []
  }
 ],
 "metadata": {
  "kernelspec": {
   "display_name": "pt2",
   "language": "python",
   "name": "python3"
  },
  "language_info": {
   "codemirror_mode": {
    "name": "ipython",
    "version": 3
   },
   "file_extension": ".py",
   "mimetype": "text/x-python",
   "name": "python",
   "nbconvert_exporter": "python",
   "pygments_lexer": "ipython3",
   "version": "3.11.10"
  }
 },
 "nbformat": 4,
 "nbformat_minor": 2
}
