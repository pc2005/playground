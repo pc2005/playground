{
 "cells": [
  {
   "cell_type": "code",
   "execution_count": 1,
   "metadata": {},
   "outputs": [],
   "source": [
    "import torch\n",
    "torch.__version__"
   ]
  },
  {
   "cell_type": "markdown",
   "metadata": {},
   "source": [
    "## Ways to compile functions"
   ]
  },
  {
   "cell_type": "code",
   "execution_count": 3,
   "metadata": {},
   "outputs": [
    {
     "name": "stdout",
     "output_type": "stream",
     "text": [
      "tensor([[ 1.6043, -0.2746,  1.7431,  0.4415,  0.9408, -0.4355,  1.6645,  1.6300,\n",
      "          1.3092,  0.2094],\n",
      "        [ 0.5522,  1.1827,  1.4101,  0.3985,  1.1439,  1.1584,  1.6066,  1.4491,\n",
      "          1.4636, -0.9000],\n",
      "        [ 0.4810,  0.4645, -0.4017,  1.3124,  1.4241,  0.2296,  1.2549, -0.6780,\n",
      "          1.6899,  1.7346],\n",
      "        [ 1.5717,  0.0319,  1.1183,  1.6153, -0.9053, -0.2714, -0.2103,  1.4175,\n",
      "          0.3798,  0.9044],\n",
      "        [ 0.7737,  0.3309,  1.4537,  0.5419,  0.1800,  1.1207,  0.9242, -0.4284,\n",
      "          0.5850, -0.0317],\n",
      "        [-0.0140,  1.7241,  1.0403, -0.0819, -0.1942,  1.7794,  1.2810,  1.9000,\n",
      "          0.8102,  1.5944],\n",
      "        [-0.1889, -0.6406,  0.3374,  0.4559,  1.2599,  1.8972,  0.1821,  1.9660,\n",
      "          1.1527,  0.5869],\n",
      "        [-1.0972, -0.4314,  1.1855,  1.6278, -0.8319,  1.2264,  0.5447,  0.8260,\n",
      "          0.5960,  0.8217],\n",
      "        [-0.5196,  1.0953,  1.3367, -0.0828, -0.0024,  0.1470,  0.0420,  1.7272,\n",
      "         -0.2125,  1.0458],\n",
      "        [ 1.4449,  1.8998,  0.1810,  0.8962,  1.1005,  1.5689, -0.2882,  0.6529,\n",
      "          1.1298,  0.1634]])\n"
     ]
    }
   ],
   "source": [
    "# calling torch.compile()\n",
    "def foo(x, y):\n",
    "    a = torch.sin(x)\n",
    "    b = torch.cos(y)\n",
    "    return a + b\n",
    "opt_foo1 = torch.compile(foo)\n",
    "print(opt_foo1(torch.randn(10, 10), torch.randn(10, 10)))"
   ]
  },
  {
   "cell_type": "code",
   "execution_count": 4,
   "metadata": {},
   "outputs": [
    {
     "name": "stdout",
     "output_type": "stream",
     "text": [
      "tensor([[-0.1912, -0.1721,  0.8253, -1.0740, -1.0621, -0.0351,  0.6220,  1.4802,\n",
      "          0.2999,  1.0384],\n",
      "        [ 0.3367,  0.1423,  0.5219, -0.1880, -0.5841,  0.5742,  1.5125, -1.3998,\n",
      "          1.2686,  1.9325],\n",
      "        [ 0.2175,  0.6827,  0.6337,  0.5219,  1.3809,  1.1769,  1.4833,  0.8134,\n",
      "          1.8649,  0.4727],\n",
      "        [-0.1467,  0.7379, -1.3032,  0.0285,  0.5850,  0.1769, -0.9247,  1.3094,\n",
      "          1.0439,  1.5132],\n",
      "        [ 0.6849,  0.0824,  0.6481,  1.1109,  0.9985,  1.4045,  0.1878, -0.7976,\n",
      "          0.4602,  1.3794],\n",
      "        [ 1.8323,  1.4994,  0.3880,  1.7921,  0.0601,  0.4286,  0.3825,  0.0391,\n",
      "         -0.1501,  0.9742],\n",
      "        [ 0.2798, -0.1901, -0.2974,  1.1973, -0.4259,  1.4623, -0.3657,  0.3740,\n",
      "          0.0027, -0.0205],\n",
      "        [ 1.0297,  1.3408, -0.0384,  1.8761,  1.9399, -0.6877, -0.0485,  0.0711,\n",
      "          1.1092,  1.0371],\n",
      "        [ 0.7977,  1.2743, -0.1078,  0.2799, -0.6749,  1.3553,  0.3130,  0.8614,\n",
      "          1.2505,  1.3905],\n",
      "        [ 1.5664,  1.8903,  0.7310,  0.0820, -1.2741, -0.7463,  1.4603,  0.0312,\n",
      "          1.0387,  0.9245]])\n"
     ]
    }
   ],
   "source": [
    "# use decorator\n",
    "@torch.compile\n",
    "def opt_foo2(x, y):\n",
    "    a = torch.sin(x)\n",
    "    b = torch.cos(y)\n",
    "    return a + b\n",
    "print(opt_foo2(torch.randn(10, 10), torch.randn(10, 10)))"
   ]
  },
  {
   "cell_type": "code",
   "execution_count": 5,
   "metadata": {},
   "outputs": [
    {
     "name": "stdout",
     "output_type": "stream",
     "text": [
      "tensor([[0.0340, 0.2678, -0.0000, 0.2469, -0.0000, -0.0000, -0.0000, -0.0000, -0.0000,\n",
      "         -0.0000],\n",
      "        [-0.0000, 0.3892, -0.0000, 0.3505, 0.0731, 0.1244, -0.0000, -0.0000, 0.5205,\n",
      "         -0.0000],\n",
      "        [0.1470, -0.0000, -0.0000, 0.1113, -0.0000, -0.0000, 0.3741, -0.0000, -0.0000,\n",
      "         0.0328],\n",
      "        [-0.0000, 0.5501, 0.2239, -0.0000, 0.0484, -0.0000, 0.0893, 0.5620, -0.0000,\n",
      "         0.6922],\n",
      "        [1.3632, 0.5130, -0.0000, 0.1752, 1.0213, -0.0000, 0.0653, -0.0000, 0.7644,\n",
      "         -0.0000],\n",
      "        [0.1039, 0.2425, 0.3622, 0.3732, 0.4868, -0.0000, -0.0000, 0.3979, -0.0000,\n",
      "         0.5545],\n",
      "        [-0.0000, -0.0000, -0.0000, -0.0000, -0.0000, -0.0000, 0.4019, -0.0000, -0.0000,\n",
      "         -0.0000],\n",
      "        [0.2069, 0.4298, -0.0000, -0.0000, -0.0000, 0.3999, -0.0000, -0.0000, 0.1561,\n",
      "         0.1818],\n",
      "        [0.3223, -0.0000, -0.0000, 0.1642, 0.9643, -0.0000, -0.0000, 0.5988, -0.0000,\n",
      "         -0.0000],\n",
      "        [0.9123, 0.1878, -0.0000, 0.8782, -0.0000, -0.0000, 0.4748, -0.0000, 0.1313,\n",
      "         0.4343]], grad_fn=<CompiledFunctionBackward>)\n"
     ]
    }
   ],
   "source": [
    "# compile torch.nn.Module\n",
    "class MyModule(torch.nn.Module):\n",
    "    def __init__(self):\n",
    "        super().__init__()\n",
    "        self.lin = torch.nn.Linear(100, 10)\n",
    "\n",
    "    def forward(self, x):\n",
    "        return torch.nn.functional.relu(self.lin(x))\n",
    "\n",
    "mod = MyModule()\n",
    "opt_mod = torch.compile(mod)\n",
    "print(opt_mod(torch.randn(10, 100)))"
   ]
  },
  {
   "cell_type": "markdown",
   "metadata": {},
   "source": [
    "## Demonstrate Speedup"
   ]
  },
  {
   "cell_type": "code",
   "execution_count": 6,
   "metadata": {},
   "outputs": [],
   "source": [
    "# Returns the result of running `fn()` and the time it took for `fn()` to run,\n",
    "# in seconds. We use CUDA events and synchronization for the most accurate\n",
    "# measurements.\n",
    "def timed(fn):\n",
    "    start = torch.cuda.Event(enable_timing=True)\n",
    "    end = torch.cuda.Event(enable_timing=True)\n",
    "    start.record()\n",
    "    result = fn()\n",
    "    end.record()\n",
    "    torch.cuda.synchronize()\n",
    "    return result, start.elapsed_time(end) / 1000\n",
    "\n",
    "# Generates random input and targets data for the model, where `b` is\n",
    "# batch size.\n",
    "def generate_data(b):\n",
    "    return (\n",
    "        torch.randn(b, 3, 128, 128).to(torch.float32).cuda(),\n",
    "        torch.randint(1000, (b,)).cuda(),\n",
    "    )\n",
    "\n",
    "N_ITERS = 10\n",
    "\n",
    "from torchvision.models import densenet121\n",
    "def init_model():\n",
    "    return densenet121().to(torch.float32).cuda()"
   ]
  }
 ],
 "metadata": {
  "kernelspec": {
   "display_name": "pt2",
   "language": "python",
   "name": "python3"
  },
  "language_info": {
   "codemirror_mode": {
    "name": "ipython",
    "version": 3
   },
   "file_extension": ".py",
   "mimetype": "text/x-python",
   "name": "python",
   "nbconvert_exporter": "python",
   "pygments_lexer": "ipython3",
   "version": "3.11.7"
  }
 },
 "nbformat": 4,
 "nbformat_minor": 2
}
